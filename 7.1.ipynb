{
 "cells": [
  {
   "cell_type": "code",
   "execution_count": 1,
   "metadata": {},
   "outputs": [],
   "source": [
    "import numpy as np\n",
    "import torch\n",
    "import matplotlib.pyplot as plt"
   ]
  },
  {
   "cell_type": "code",
   "execution_count": 5,
   "metadata": {},
   "outputs": [
    {
     "name": "stdout",
     "output_type": "stream",
     "text": [
      "input data.shape torch.Size([759, 8])\n"
     ]
    }
   ],
   "source": [
    "\"\"\"\n",
    "读取文件，以逗号未分割点\n",
    "取所有行，和第一列到倒数第二列\n",
    "取所有行，和最后一列\n",
    "\"\"\"\n",
    "xy = np.loadtxt('diabetes.csv.gz', delimiter=',', dtype=np.float32)\n",
    "x_data = torch.from_numpy(xy[:, :-1]) # 第一个‘：’是指读取所有行，第二个‘：’是指从第一列开始，最后一列不要\n",
    "print(\"input data.shape\", x_data.shape)\n",
    "y_data = torch.from_numpy(xy[:, [-1]]) # [-1] 最后得到的是个矩阵"
   ]
  },
  {
   "cell_type": "code",
   "execution_count": 6,
   "metadata": {},
   "outputs": [],
   "source": [
    "\n",
    "class Model(torch.nn.Module):\n",
    "    \"\"\"\n",
    "    super继承Module库\n",
    "    线性变换；\n",
    "    8维指的是8个特征-6维是6个特征；8个权重-6个权重\n",
    "    这是线性网络\n",
    "    输入数据为8维-输出6维\n",
    "    输入数据为6维-输出4维\n",
    "    输入数据为4维-输出2维\n",
    "    输入数据为2维-输出1维\n",
    "    调用sigmoid函数，对数据判断\n",
    "    \"\"\"\n",
    "    def __init__(self):\n",
    "        super(Model, self).__init__()\n",
    "        self.linear1 = torch.nn.Linear(8, 6)\n",
    "        self.linear2 = torch.nn.Linear(6, 4)\n",
    "        self.linear3 = torch.nn.Linear(4, 2)\n",
    "        self.linear4 = torch.nn.Linear(2, 1)\n",
    "        self.sigmoid = torch.nn.Sigmoid()\n",
    " \n",
    "    def forward(self, x):\n",
    "        \"\"\"\n",
    "        :param x:输入数据\n",
    "        :return:预测值\n",
    "        \"\"\"\n",
    "        x = self.sigmoid(self.linear1(x))\n",
    "        x = self.sigmoid(self.linear2(x))\n",
    "        x = self.sigmoid(self.linear3(x))\n",
    "        x = self.sigmoid(self.linear4(x))\n",
    "        return x"
   ]
  },
  {
   "cell_type": "code",
   "execution_count": 15,
   "metadata": {},
   "outputs": [
    {
     "data": {
      "text/plain": [
       "Text(0.5, 0, 'epoch')"
      ]
     },
     "execution_count": 15,
     "metadata": {},
     "output_type": "execute_result"
    },
    {
     "data": {
      "image/png": "[encoded data removed]",
      "text/plain": [
       "<Figure size 640x480 with 1 Axes>"
      ]
     },
     "metadata": {},
     "output_type": "display_data"
    }
   ],
   "source": [
    "\"\"\"\n",
    "模型实例化\n",
    "调用BCELoss函数--给criterion函数\n",
    "使用SGD优化器，模型参数初始化（parameters()），学习率为0.01\n",
    "\"\"\"\n",
    "model = Model()\n",
    "criterion = torch.nn.BCELoss(size_average=False)\n",
    "optimizer = torch.optim.SGD(model.parameters(), lr=0.01)\n",
    "\n",
    "# Adam优化器\n",
    "# optimizer = torch.optim.Adam(model.parameters(), lr=0.01)\n",
    "\n",
    "epoch_list = []\n",
    "loss_list = []\n",
    "\n",
    "for epoch in range(100):\n",
    "    \"\"\"\n",
    "    遍历100次\n",
    "    将特征值传入模型，返回预测值（张量）\n",
    "    传入预测和真实值，通过criterion函数，返回损失函数\n",
    "    输出  当前次数  和  损失函数的高精度\n",
    "    优化器中梯度值 参数归零\n",
    "    反向传播\n",
    "    通过优化器函数，optimizer.step函数进行更新权值w和偏置b，以及梯度值\n",
    "    \"\"\"\n",
    "    y_pred = model(x_data)\n",
    "    loss = criterion(y_pred, y_data)\n",
    "    optimizer.zero_grad()\n",
    "    loss.backward()\n",
    "    optimizer.step()\n",
    "    epoch_list.append(epoch)\n",
    "    loss_list.append(loss.item())\n",
    "\n",
    "plt.plot(epoch_list, loss_list)\n",
    "plt.ylabel('loss')\n",
    "plt.xlabel('epoch')"
   ]
  },
  {
   "cell_type": "markdown",
   "metadata": {},
   "source": [
    "##### SGD（随机梯度下降）\n",
    "基本思想：SGD在每一步更新中仅使用一个（或一小批）样本来计算梯度，而不是使用整个数据集。这种方法可以显著减少计算量，使得训练大规模数据集变得可行。  \n",
    "学习率：SGD通常需要手动调整学习率，并且可能会使用如学习率衰减这样的技巧来帮助模型收敛。学习率的选择对SGD的性能影响很大。\n",
    "收敛速度：SGD的收敛速度通常比较慢，尤其是在接近最小值的平坦区域。  \n",
    "泛化能力：研究表明，由于SGD的噪声更大，它可能有助于模型找到泛化性能更好的解。\n",
    "\n",
    "##### Adam（自适应矩估计）\n",
    "基本思想：Adam是一种自适应学习率的优化算法，它结合了动量（Momentum）和RMSprop的优点。Adam会为不同的参数计算不同的自适应学习率。  \n",
    "学习率：Adam自动调整学习率，通常不需要像SGD那样手动微调学习率，这使得Adam在很多情况下都能较快地收敛。  \n",
    "收敛速度：由于自适应学习率的特性，Adam在初期训练阶段通常比SGD收敛得更快。  \n",
    "泛化能力：尽管Adam在许多任务中都显示出了较快的收敛速度，但一些研究表明，对于某些问题，Adam可能导致过拟合，泛化能力不如SGD。\n",
    "\n",
    "##### 应用场景\n",
    "Adam：由于其易用性和快速收敛的特点，Adam非常适合在需要快速得到结果的场景中使用，特别是在计算资源有限或模型较复杂时。  \n",
    "SGD：如果模型训练时出现过拟合，或者当你有足够的时间和资源来精细调整学习率时，SGD可能是更好的选择。对于大规模分布式训练，SGD的泛化能力可能更优。\n"
   ]
  }
 ],
 "metadata": {
  "kernelspec": {
   "display_name": "Python 3",
   "language": "python",
   "name": "python3"
  },
  "language_info": {
   "codemirror_mode": {
    "name": "ipython",
    "version": 3
   },
   "file_extension": ".py",
   "mimetype": "text/x-python",
   "name": "python",
   "nbconvert_exporter": "python",
   "pygments_lexer": "ipython3",
   "version": "3.12.3"
  }
 },
 "nbformat": 4,
 "nbformat_minor": 2
}
